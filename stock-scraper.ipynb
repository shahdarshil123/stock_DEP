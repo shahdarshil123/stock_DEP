{
 "cells": [
  {
   "cell_type": "code",
   "execution_count": 7,
   "id": "ae308619",
   "metadata": {},
   "outputs": [],
   "source": [
    "!pip install requests --quiet --upgrade\n",
    "!pip install beautifulsoup4 --quiet --upgrade"
   ]
  },
  {
   "cell_type": "code",
   "execution_count": 8,
   "id": "cf92bb6a",
   "metadata": {},
   "outputs": [],
   "source": [
    "import requests\n",
    "from bs4 import BeautifulSoup"
   ]
  },
  {
   "cell_type": "code",
   "execution_count": 74,
   "id": "c596b4c1",
   "metadata": {},
   "outputs": [
    {
     "data": {
      "text/plain": [
       "'https://eoddata.com/stockquote/NYSE/IBM.htm'"
      ]
     },
     "execution_count": 74,
     "metadata": {},
     "output_type": "execute_result"
    }
   ],
   "source": [
    "home_url ='https://eoddata.com/stockquote/NYSE/'   #The URL Address of the webpage we will scrape, i.e. Stocks starting from A\n",
    "stock_name = 'IBM'\n",
    "stock_url = f'{home_url}{stock_name}.htm'\n",
    "stock_url\n"
   ]
  },
  {
   "cell_type": "code",
   "execution_count": 75,
   "id": "0b04edf7",
   "metadata": {},
   "outputs": [
    {
     "name": "stdout",
     "output_type": "stream",
     "text": [
      "200\n"
     ]
    }
   ],
   "source": [
    "response = requests.get(stock_url)      #requests.get()\n",
    "print(response.status_code)"
   ]
  },
  {
   "cell_type": "code",
   "execution_count": 76,
   "id": "3bfc1df6",
   "metadata": {},
   "outputs": [
    {
     "data": {
      "text/plain": [
       "59601"
      ]
     },
     "execution_count": 76,
     "metadata": {},
     "output_type": "execute_result"
    }
   ],
   "source": [
    "page_contents = response.text\n",
    "len(page_contents)    #The `len` fucnction tells us the length of the response object"
   ]
  },
  {
   "cell_type": "code",
   "execution_count": 77,
   "id": "a20eeb5b",
   "metadata": {},
   "outputs": [
    {
     "data": {
      "text/plain": [
       "5"
      ]
     },
     "execution_count": 77,
     "metadata": {},
     "output_type": "execute_result"
    }
   ],
   "source": [
    "doc = BeautifulSoup(page_contents, 'html.parser')  #Now 'doc' contains entire html in parsed format\n",
    "len(doc)"
   ]
  },
  {
   "cell_type": "code",
   "execution_count": 78,
   "id": "60668c03",
   "metadata": {},
   "outputs": [
    {
     "data": {
      "text/plain": [
       "'\\r\\n\\tNYSE, IBM End of Day and Historical Stock Data [International Business Machines]\\r\\n'"
      ]
     },
     "execution_count": 78,
     "metadata": {},
     "output_type": "execute_result"
    }
   ],
   "source": [
    "title = doc.find('title')\n",
    "title.string"
   ]
  },
  {
   "cell_type": "code",
   "execution_count": 79,
   "id": "8e3b01a6",
   "metadata": {},
   "outputs": [],
   "source": [
    "tabels = doc.find_all('table')\n",
    "table_rows = tabels[7].find_all('tr')"
   ]
  },
  {
   "cell_type": "code",
   "execution_count": 80,
   "id": "14a19a40",
   "metadata": {},
   "outputs": [
    {
     "data": {
      "text/plain": [
       "['Date', 'Open', 'High', 'Low', 'Close', 'Volume', 'Open Interest']"
      ]
     },
     "execution_count": 80,
     "metadata": {},
     "output_type": "execute_result"
    }
   ],
   "source": [
    "headers = table_rows[0]\n",
    "keys = [i.string for i in headers.find_all('th')]\n",
    "keys"
   ]
  },
  {
   "cell_type": "code",
   "execution_count": 81,
   "id": "bc64d723",
   "metadata": {},
   "outputs": [
    {
     "data": {
      "text/plain": [
       "<tr><td>06/21/24</td><td align=\"right\">174.0</td><td align=\"right\">175.0</td><td align=\"right\">171.4</td><td align=\"right\">172.5</td><td align=\"right\">10,182,000</td><td align=\"right\">0</td></tr>"
      ]
     },
     "execution_count": 81,
     "metadata": {},
     "output_type": "execute_result"
    }
   ],
   "source": [
    "table_rows[1]"
   ]
  },
  {
   "cell_type": "code",
   "execution_count": 82,
   "id": "e12f3b4a",
   "metadata": {},
   "outputs": [
    {
     "data": {
      "text/plain": [
       "['06/21/24', '174.0', '175.0', '171.4', '172.5', '10,182,000', '0']"
      ]
     },
     "execution_count": 82,
     "metadata": {},
     "output_type": "execute_result"
    }
   ],
   "source": [
    "data = table_rows[1].find_all('td')\n",
    "values = [i.string for i in data]\n",
    "values"
   ]
  },
  {
   "cell_type": "code",
   "execution_count": 83,
   "id": "d4113ed5",
   "metadata": {},
   "outputs": [
    {
     "data": {
      "text/plain": [
       "{'Date': '06/21/24',\n",
       " 'Open': '174.0',\n",
       " 'High': '175.0',\n",
       " 'Low': '171.4',\n",
       " 'Close': '172.5',\n",
       " 'Volume': '10,182,000',\n",
       " 'Open Interest': '0'}"
      ]
     },
     "execution_count": 83,
     "metadata": {},
     "output_type": "execute_result"
    }
   ],
   "source": [
    "dict(zip(keys,values))"
   ]
  },
  {
   "cell_type": "code",
   "execution_count": null,
   "id": "beccf754",
   "metadata": {},
   "outputs": [],
   "source": []
  }
 ],
 "metadata": {
  "kernelspec": {
   "display_name": "Python 3 (ipykernel)",
   "language": "python",
   "name": "python3"
  },
  "language_info": {
   "codemirror_mode": {
    "name": "ipython",
    "version": 3
   },
   "file_extension": ".py",
   "mimetype": "text/x-python",
   "name": "python",
   "nbconvert_exporter": "python",
   "pygments_lexer": "ipython3",
   "version": "3.11.5"
  }
 },
 "nbformat": 4,
 "nbformat_minor": 5
}
