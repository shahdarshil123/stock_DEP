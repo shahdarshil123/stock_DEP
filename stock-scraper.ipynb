{
 "cells": [
  {
   "cell_type": "code",
   "execution_count": 2,
   "id": "fb466200",
   "metadata": {},
   "outputs": [
    {
     "name": "stderr",
     "output_type": "stream",
     "text": [
      "\n",
      "[notice] A new release of pip is available: 24.0 -> 24.1.2\n",
      "[notice] To update, run: python.exe -m pip install --upgrade pip\n",
      "\n",
      "[notice] A new release of pip is available: 24.0 -> 24.1.2\n",
      "[notice] To update, run: python.exe -m pip install --upgrade pip\n"
     ]
    }
   ],
   "source": [
    "!pip install requests --quiet --upgrade\n",
    "!pip install beautifulsoup4 --quiet --upgrade"
   ]
  },
  {
   "cell_type": "code",
   "execution_count": 36,
   "id": "fc7a8254",
   "metadata": {},
   "outputs": [],
   "source": [
    "import requests\n",
    "from bs4 import BeautifulSoup\n",
    "from datetime import datetime\n",
    "import json\n",
    "import boto3\n",
    "import logging\n",
    "from botocore.exceptions import ClientError"
   ]
  },
  {
   "cell_type": "code",
   "execution_count": 5,
   "id": "7060ea0e",
   "metadata": {},
   "outputs": [],
   "source": [
    "stock_exchange = 'NASDAQ'\n",
    "stock_name = 'AMZN'"
   ]
  },
  {
   "cell_type": "code",
   "execution_count": 6,
   "id": "f4780579",
   "metadata": {},
   "outputs": [
    {
     "data": {
      "text/plain": [
       "'https://eoddata.com/stockquote/NASDAQ/AMZN.htm'"
      ]
     },
     "execution_count": 6,
     "metadata": {},
     "output_type": "execute_result"
    }
   ],
   "source": [
    "home_url =f'https://eoddata.com/stockquote/{stock_exchange}/' \n",
    "stock_url = f'{home_url}{stock_name}.htm'\n",
    "stock_url\n"
   ]
  },
  {
   "cell_type": "code",
   "execution_count": 7,
   "id": "aff62568",
   "metadata": {},
   "outputs": [
    {
     "name": "stdout",
     "output_type": "stream",
     "text": [
      "200\n"
     ]
    }
   ],
   "source": [
    "response = requests.get(stock_url)      #requests.get()\n",
    "print(response.status_code)"
   ]
  },
  {
   "cell_type": "code",
   "execution_count": 8,
   "id": "0f0df266",
   "metadata": {},
   "outputs": [
    {
     "data": {
      "text/plain": [
       "59573"
      ]
     },
     "execution_count": 8,
     "metadata": {},
     "output_type": "execute_result"
    }
   ],
   "source": [
    "page_contents = response.text\n",
    "len(page_contents)    #The `len` fucnction tells us the length of the response object"
   ]
  },
  {
   "cell_type": "code",
   "execution_count": 9,
   "id": "ae5fcd76",
   "metadata": {},
   "outputs": [
    {
     "data": {
      "text/plain": [
       "5"
      ]
     },
     "execution_count": 9,
     "metadata": {},
     "output_type": "execute_result"
    }
   ],
   "source": [
    "doc = BeautifulSoup(page_contents, 'html.parser')  #Now 'doc' contains entire html in parsed format\n",
    "len(doc)"
   ]
  },
  {
   "cell_type": "code",
   "execution_count": 10,
   "id": "21f19de6",
   "metadata": {},
   "outputs": [
    {
     "data": {
      "text/plain": [
       "'\\r\\n\\tNASDAQ, AMZN End of Day and Historical Stock Data [Amazon.com Inc]\\r\\n'"
      ]
     },
     "execution_count": 10,
     "metadata": {},
     "output_type": "execute_result"
    }
   ],
   "source": [
    "title = doc.find('title')\n",
    "title.string"
   ]
  },
  {
   "cell_type": "code",
   "execution_count": 11,
   "id": "b5c45fb5",
   "metadata": {},
   "outputs": [],
   "source": [
    "tabels = doc.find_all('table')\n",
    "table_rows = tabels[7].find_all('tr')"
   ]
  },
  {
   "cell_type": "code",
   "execution_count": 31,
   "id": "6459586b",
   "metadata": {},
   "outputs": [
    {
     "data": {
      "text/plain": [
       "['date', 'open', 'high', 'low', 'close', 'volume']"
      ]
     },
     "execution_count": 31,
     "metadata": {},
     "output_type": "execute_result"
    }
   ],
   "source": [
    "headers = table_rows[0]\n",
    "keys = [i.string.lower() for i in headers.find_all('th')]\n",
    "keys = keys[0:-1]\n",
    "keys"
   ]
  },
  {
   "cell_type": "code",
   "execution_count": 13,
   "id": "e07b72bb",
   "metadata": {},
   "outputs": [
    {
     "data": {
      "text/plain": [
       "<tr><td>07/05/24</td><td align=\"right\">198.7</td><td align=\"right\">200.6</td><td align=\"right\">198.2</td><td align=\"right\">200.0</td><td align=\"right\">39,858,800</td><td align=\"right\">0</td></tr>"
      ]
     },
     "execution_count": 13,
     "metadata": {},
     "output_type": "execute_result"
    }
   ],
   "source": [
    "table_rows[1]"
   ]
  },
  {
   "cell_type": "code",
   "execution_count": 39,
   "id": "3596485f",
   "metadata": {},
   "outputs": [
    {
     "data": {
      "text/plain": [
       "['07/05/24', '198.7', '200.6', '198.2', '200.0', '39,858,800']"
      ]
     },
     "execution_count": 39,
     "metadata": {},
     "output_type": "execute_result"
    }
   ],
   "source": [
    "data = table_rows[1].find_all('td')\n",
    "values = [i.string for i in data]\n",
    "values = values[0:-1]\n",
    "values"
   ]
  },
  {
   "cell_type": "code",
   "execution_count": null,
   "id": "72e76ee6",
   "metadata": {},
   "outputs": [],
   "source": []
  },
  {
   "cell_type": "code",
   "execution_count": 47,
   "id": "5bef3e76",
   "metadata": {},
   "outputs": [
    {
     "data": {
      "text/plain": [
       "{'date': '07/05/24',\n",
       " 'open': '198.7',\n",
       " 'high': '200.6',\n",
       " 'low': '198.2',\n",
       " 'close': '200.0',\n",
       " 'volume': '39,858,800'}"
      ]
     },
     "execution_count": 47,
     "metadata": {},
     "output_type": "execute_result"
    }
   ],
   "source": [
    "data = dict(zip(keys,values))\n",
    "data"
   ]
  },
  {
   "cell_type": "code",
   "execution_count": 48,
   "id": "89bfab55",
   "metadata": {},
   "outputs": [],
   "source": [
    "#Change the type of the columns\n",
    "data['date'] = datetime.strptime(data['date'], '%m/%d/%y').strftime('%Y-%m-%d')\n",
    "data['open'] = float(data['open'])\n",
    "data['high'] = float(data['high'])\n",
    "data['low'] = float(data['low'])\n",
    "data['close'] = float(data['close'])\n",
    "data['volume'] = int(data['volume'].replace(',', ''))"
   ]
  },
  {
   "cell_type": "code",
   "execution_count": 49,
   "id": "5332b750",
   "metadata": {},
   "outputs": [
    {
     "data": {
      "text/plain": [
       "{'date': '2024-07-05',\n",
       " 'open': 198.7,\n",
       " 'high': 200.6,\n",
       " 'low': 198.2,\n",
       " 'close': 200.0,\n",
       " 'volume': 39858800}"
      ]
     },
     "execution_count": 49,
     "metadata": {},
     "output_type": "execute_result"
    }
   ],
   "source": [
    "data"
   ]
  },
  {
   "cell_type": "code",
   "execution_count": 52,
   "id": "ee436469",
   "metadata": {},
   "outputs": [],
   "source": [
    "def scrape(stock,exchange):\n",
    "    home_url =f'https://eoddata.com/stockquote/{exchange}/'   #The URL Address of the webpage we will scrape, i.e. Stocks starting from A\n",
    "    stock_url = f'{home_url}{stock}.htm'\n",
    "\n",
    "    response = requests.get(stock_url)      #requests.get()\n",
    "#     print(response.status_code)\n",
    "\n",
    "    page_contents = response.text\n",
    "\n",
    "    doc = BeautifulSoup(page_contents, 'html.parser')  #Now 'doc' contains entire html in parsed format\n",
    "\n",
    "    tabels = doc.find_all('table')\n",
    "    table_rows = tabels[7].find_all('tr')\n",
    "    \n",
    "    headers = table_rows[0]\n",
    "    keys = [i.string.lower() for i in headers.find_all('th')]\n",
    "    keys = keys[0:-1]\n",
    "    \n",
    "    row = table_rows[1].find_all('td')\n",
    "    values = [i.string for i in row]\n",
    "    values = values[0:-1]\n",
    "\n",
    "    data = dict(zip(keys,values))\n",
    "    \n",
    "    data['date'] = datetime.strptime(data['date'], '%m/%d/%y').strftime('%Y-%m-%d')\n",
    "    data['open'] = float(data['open'])\n",
    "    data['high'] = float(data['high'])\n",
    "    data['low'] = float(data['low'])\n",
    "    data['close'] = float(data['close'])\n",
    "    data['volume'] = int(data['volume'].replace(',', ''))\n",
    "    \n",
    "    return(data)\n",
    "    \n",
    "    "
   ]
  },
  {
   "cell_type": "code",
   "execution_count": 53,
   "id": "a1cba54c",
   "metadata": {},
   "outputs": [
    {
     "data": {
      "text/plain": [
       "{'date': '2024-07-08',\n",
       " 'open': 200.0,\n",
       " 'high': 201.2,\n",
       " 'low': 198.0,\n",
       " 'close': 198.9,\n",
       " 'volume': 25789691}"
      ]
     },
     "execution_count": 53,
     "metadata": {},
     "output_type": "execute_result"
    }
   ],
   "source": [
    "stock = 'AMZN'\n",
    "exchange = 'NASDAQ'\n",
    "scrape(stock,exchange)"
   ]
  },
  {
   "cell_type": "code",
   "execution_count": 56,
   "id": "ec3fe564",
   "metadata": {},
   "outputs": [],
   "source": [
    "import os\n",
    "path = os.getcwd()\n",
    "file_path = f\"{path}\\\\data\\\\stock_latest.json\"\n",
    "# print(file_path)\n",
    "\n",
    "\n",
    "bucket = 's3-datalake-stock-price-darshil0208'\n",
    "object_name = 'stock_latest_price.json'\n",
    "stock = 'AMZN'\n",
    "exchange = 'NASDAQ'\n"
   ]
  },
  {
   "cell_type": "code",
   "execution_count": 58,
   "id": "01a43e14",
   "metadata": {},
   "outputs": [],
   "source": [
    "def create_json(data):\n",
    "    date = data['date']\n",
    "    # print(len(data))\n",
    "    # print(url)\n",
    "    with open(file_path,'w') as f:\n",
    "        json.dump(data,f,separators=(',', ':'))\n",
    "    return\n",
    "\n",
    "create_json(scrape(stock,exchange))"
   ]
  },
  {
   "cell_type": "code",
   "execution_count": 59,
   "id": "61eba4db",
   "metadata": {},
   "outputs": [],
   "source": [
    "def upload_file_to_s3(file_name,bucket,object_name):\n",
    "    s3_client = boto3.client('s3')\n",
    "    try:\n",
    "        response = s3_client.upload_file(file_path, bucket, object_name)\n",
    "    except ClientError as e:\n",
    "        logging.error(e)\n",
    "        return False\n",
    "    return True"
   ]
  },
  {
   "cell_type": "code",
   "execution_count": 60,
   "id": "eba567d1",
   "metadata": {},
   "outputs": [
    {
     "name": "stdout",
     "output_type": "stream",
     "text": [
      "Upload successful\n"
     ]
    }
   ],
   "source": [
    "if upload_file_to_s3(file_path,bucket,object_name):\n",
    "    print(\"Upload successful\")\n",
    "else:\n",
    "    print(\"Upload Unsuccessful\")"
   ]
  }
 ],
 "metadata": {
  "kernelspec": {
   "display_name": "Python 3 (ipykernel)",
   "language": "python",
   "name": "python3"
  },
  "language_info": {
   "codemirror_mode": {
    "name": "ipython",
    "version": 3
   },
   "file_extension": ".py",
   "mimetype": "text/x-python",
   "name": "python",
   "nbconvert_exporter": "python",
   "pygments_lexer": "ipython3",
   "version": "3.12.2"
  }
 },
 "nbformat": 4,
 "nbformat_minor": 5
}
