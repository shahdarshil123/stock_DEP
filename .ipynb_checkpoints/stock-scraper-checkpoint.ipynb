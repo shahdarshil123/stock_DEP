{
 "cells": [
  {
   "cell_type": "code",
   "execution_count": 7,
   "id": "b74d0c6e",
   "metadata": {},
   "outputs": [],
   "source": [
    "!pip install requests --quiet --upgrade\n",
    "!pip install beautifulsoup4 --quiet --upgrade"
   ]
  },
  {
   "cell_type": "code",
   "execution_count": 8,
   "id": "9b9860bb",
   "metadata": {},
   "outputs": [],
   "source": [
    "import requests\n",
    "from bs4 import BeautifulSoup"
   ]
  },
  {
   "cell_type": "code",
   "execution_count": 25,
   "id": "78104f0c",
   "metadata": {},
   "outputs": [
    {
     "data": {
      "text/plain": [
       "'https://eoddata.com/stockquote/NYSE/IBM.htm'"
      ]
     },
     "execution_count": 25,
     "metadata": {},
     "output_type": "execute_result"
    }
   ],
   "source": [
    "home_url ='https://eoddata.com/stockquote/NYSE/'   #The URL Address of the webpage we will scrape, i.e. Stocks starting from A\n",
    "stock_name = 'IBM'\n",
    "stock_url = f'{home_url}{stock_name}.htm'\n",
    "stock_url\n"
   ]
  },
  {
   "cell_type": "code",
   "execution_count": 34,
   "id": "03395f5e",
   "metadata": {},
   "outputs": [
    {
     "name": "stdout",
     "output_type": "stream",
     "text": [
      "200\n"
     ]
    }
   ],
   "source": [
    "response = requests.get(stock_url)      #requests.get()\n",
    "print(response.status_code)"
   ]
  },
  {
   "cell_type": "code",
   "execution_count": 35,
   "id": "33a52515",
   "metadata": {},
   "outputs": [
    {
     "data": {
      "text/plain": [
       "59601"
      ]
     },
     "execution_count": 35,
     "metadata": {},
     "output_type": "execute_result"
    }
   ],
   "source": [
    "page_contents = response.text\n",
    "len(page_contents)    #The `len` fucnction tells us the length of the response object"
   ]
  },
  {
   "cell_type": "code",
   "execution_count": 37,
   "id": "4b73ea3f",
   "metadata": {},
   "outputs": [
    {
     "data": {
      "text/plain": [
       "5"
      ]
     },
     "execution_count": 37,
     "metadata": {},
     "output_type": "execute_result"
    }
   ],
   "source": [
    "doc = BeautifulSoup(page_contents, 'html.parser')  #Now 'doc' contains entire html in parsed format\n",
    "len(doc)"
   ]
  },
  {
   "cell_type": "code",
   "execution_count": 30,
   "id": "da3c9309",
   "metadata": {},
   "outputs": [
    {
     "data": {
      "text/plain": [
       "'\\r\\n\\tNYSE, IBM End of Day and Historical Stock Data [International Business Machines]\\r\\n'"
      ]
     },
     "execution_count": 30,
     "metadata": {},
     "output_type": "execute_result"
    }
   ],
   "source": [
    "title = doc.find('title')\n",
    "title.string"
   ]
  },
  {
   "cell_type": "code",
   "execution_count": 54,
   "id": "5a0dd2dd",
   "metadata": {},
   "outputs": [],
   "source": [
    "tabels = doc.find_all('table')\n",
    "table_rows = tabels[7].find_all('tr')"
   ]
  },
  {
   "cell_type": "code",
   "execution_count": 57,
   "id": "a6cba73f",
   "metadata": {},
   "outputs": [
    {
     "name": "stdout",
     "output_type": "stream",
     "text": [
      "Date\n",
      "Open\n",
      "High\n",
      "Low\n",
      "Close\n",
      "Volume\n",
      "Open Interest\n"
     ]
    }
   ],
   "source": [
    "headers = table_rows[0]\n",
    "for i in headers.find_all('th'):\n",
    "    print(i.string)"
   ]
  },
  {
   "cell_type": "code",
   "execution_count": 62,
   "id": "afd5f7d6",
   "metadata": {},
   "outputs": [
    {
     "name": "stdout",
     "output_type": "stream",
     "text": [
      "06/21/24\n",
      "174.0\n",
      "175.0\n",
      "171.4\n",
      "172.5\n",
      "10,181,700\n",
      "0\n"
     ]
    }
   ],
   "source": [
    "data = table_rows[1].find_all('td')\n",
    "for i in data:\n",
    "    print(i.string)"
   ]
  },
  {
   "cell_type": "code",
   "execution_count": null,
   "id": "f497337b",
   "metadata": {},
   "outputs": [],
   "source": []
  }
 ],
 "metadata": {
  "kernelspec": {
   "display_name": "Python 3 (ipykernel)",
   "language": "python",
   "name": "python3"
  },
  "language_info": {
   "codemirror_mode": {
    "name": "ipython",
    "version": 3
   },
   "file_extension": ".py",
   "mimetype": "text/x-python",
   "name": "python",
   "nbconvert_exporter": "python",
   "pygments_lexer": "ipython3",
   "version": "3.11.5"
  }
 },
 "nbformat": 4,
 "nbformat_minor": 5
}
