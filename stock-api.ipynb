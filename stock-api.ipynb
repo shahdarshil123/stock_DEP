{
 "cells": [
  {
   "cell_type": "code",
   "execution_count": 50,
   "metadata": {},
   "outputs": [
    {
     "name": "stderr",
     "output_type": "stream",
     "text": [
      "\n",
      "[notice] A new release of pip is available: 24.0 -> 24.1.2\n",
      "[notice] To update, run: python.exe -m pip install --upgrade pip\n"
     ]
    }
   ],
   "source": [
    "!pip install boto3 --quiet --user"
   ]
  },
  {
   "cell_type": "code",
   "execution_count": 31,
   "metadata": {},
   "outputs": [],
   "source": [
    "import pandas as pd\n",
    "import numpy as np\n",
    "import requests\n",
    "import json\n",
    "import os"
   ]
  },
  {
   "cell_type": "code",
   "execution_count": 57,
   "metadata": {},
   "outputs": [
    {
     "name": "stdout",
     "output_type": "stream",
     "text": [
      "c:\\Users\\Darshil Shah\\Desktop\\stock-dep\\data\\stock_history.json\n"
     ]
    }
   ],
   "source": [
    "path = os.getcwd()\n",
    "file_path = f\"{path}\\\\data\\\\stock_history.json\"\n",
    "print(file_path)"
   ]
  },
  {
   "cell_type": "code",
   "execution_count": 77,
   "metadata": {},
   "outputs": [
    {
     "name": "stdout",
     "output_type": "stream",
     "text": [
      "https://eodhd.com/api/eod/AMZN.US?period=d&api_token=demo&from=2021-01-01&fmt=json\n"
     ]
    }
   ],
   "source": [
    "symbol= 'AMZN'\n",
    "exchange = 'US'\n",
    "api_token ='demo'\n",
    "fmt='json'\n",
    "\n",
    "url = f'https://eodhd.com/api/eod/{symbol}.{exchange}?period=d&api_token={api_token}&from=2021-01-01&fmt={fmt}'\n",
    "data = requests.get(url).json()\n",
    "\n",
    "# print(len(data))\n",
    "print(url)\n",
    "for record in data:\n",
    "    with open(file_path, 'a') as f:\n",
    "        json.dump(record, f, separators=(',', ':'))\n",
    "        f.write('\\n')\n",
    "\n",
    "# json_file = open(f\"{path}\\\\data\\\\stock_history.json\",\"w\")\n",
    "# json.dump(data,json_file,indent=3)\n",
    "# json_file.close()\n"
   ]
  },
  {
   "cell_type": "code",
   "execution_count": 76,
   "metadata": {},
   "outputs": [],
   "source": [
    "for record in data:\n",
    "    with open('myfile.json', 'a') as f:\n",
    "        json.dump(record, f, separators=(',', ':'))\n",
    "        f.write('\\n')\n"
   ]
  },
  {
   "cell_type": "code",
   "execution_count": 27,
   "metadata": {},
   "outputs": [
    {
     "name": "stdout",
     "output_type": "stream",
     "text": [
      "Data type for date is: <class 'str'>\n",
      "Data type for open is: <class 'float'>\n",
      "Data type for close is: <class 'float'>\n",
      "Data type for high is: <class 'float'>\n",
      "Data type for low is: <class 'float'>\n",
      "Data type for adjusted_close is: <class 'float'>\n",
      "Data type for volume is: <class 'int'>\n"
     ]
    }
   ],
   "source": [
    "#Check the data types of each column:\n",
    "d = data[-10]\n",
    "print('Data type for date is:', type(d['date']))\n",
    "print('Data type for open is:', type(d['open']))\n",
    "print('Data type for close is:', type(d['close']))\n",
    "print('Data type for high is:', type(d['high']))\n",
    "print('Data type for low is:', type(d['low']))\n",
    "print('Data type for adjusted_close is:', type(d['adjusted_close']))\n",
    "print('Data type for volume is:', type(d['volume']))"
   ]
  },
  {
   "cell_type": "code",
   "execution_count": 53,
   "metadata": {},
   "outputs": [],
   "source": [
    "import boto3\n",
    "import logging\n",
    "from botocore.exceptions import ClientError"
   ]
  },
  {
   "cell_type": "code",
   "execution_count": 52,
   "metadata": {},
   "outputs": [
    {
     "name": "stdout",
     "output_type": "stream",
     "text": [
      "s3-datalake-stock-price-darshil0208\n",
      "youtube-data-analysis-s3\n",
      "youtube-s3-cleansed-data\n",
      "youtube-s3-glue-athena\n"
     ]
    }
   ],
   "source": [
    "s3 = boto3.resource('s3')\n",
    "for bucket in s3.buckets.all():\n",
    "    print(bucket.name)"
   ]
  },
  {
   "cell_type": "code",
   "execution_count": 55,
   "metadata": {},
   "outputs": [],
   "source": [
    "def upload_file_to_s3(file_name,bucket,object_name):\n",
    "    s3_client = boto3.client('s3')\n",
    "    try:\n",
    "        response = s3_client.upload_file(file_name, bucket, object_name)\n",
    "    except ClientError as e:\n",
    "        logging.error(e)\n",
    "        return False\n",
    "    return True"
   ]
  },
  {
   "cell_type": "code",
   "execution_count": 79,
   "metadata": {},
   "outputs": [
    {
     "name": "stdout",
     "output_type": "stream",
     "text": [
      "Upload successful\n"
     ]
    }
   ],
   "source": [
    "file_name = file_path\n",
    "bucket = 's3-datalake-stock-price-darshil0208'\n",
    "object_name = 'AMZN_stock_price.json'\n",
    "\n",
    "if upload_file_to_s3(file_name,bucket,object_name):\n",
    "    print(\"Upload successful\")\n",
    "else:\n",
    "    print(\"Upload Unsuccessful\")"
   ]
  }
 ],
 "metadata": {
  "kernelspec": {
   "display_name": "Python 3",
   "language": "python",
   "name": "python3"
  },
  "language_info": {
   "codemirror_mode": {
    "name": "ipython",
    "version": 3
   },
   "file_extension": ".py",
   "mimetype": "text/x-python",
   "name": "python",
   "nbconvert_exporter": "python",
   "pygments_lexer": "ipython3",
   "version": "3.12.2"
  }
 },
 "nbformat": 4,
 "nbformat_minor": 2
}
